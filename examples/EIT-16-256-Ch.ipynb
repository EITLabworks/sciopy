{
 "cells": [
  {
   "cell_type": "markdown",
   "id": "1e1715cc-c123-45e2-b767-e6412faeebe3",
   "metadata": {},
   "source": [
    "# Example code for connecting a Sciospec EIT device"
   ]
  },
  {
   "cell_type": "code",
   "execution_count": null,
   "id": "f49a2bed-51db-4627-b5e6-21831a620644",
   "metadata": {},
   "outputs": [],
   "source": [
    "import matplotlib.pyplot as plt\n",
    "import numpy as np\n",
    "\n",
    "from sciopy import EIT_16_32_64_128, EitMeasurementSetup"
   ]
  },
  {
   "cell_type": "code",
   "execution_count": null,
   "id": "f8c7590a-9aea-4b22-91ad-b953b540362b",
   "metadata": {},
   "outputs": [],
   "source": [
    "# create a 'sciospec' class which represents the sciospec EIT device\n",
    "n_el = 16\n",
    "sciospec = EIT_16_32_64_128(n_el)"
   ]
  },
  {
   "cell_type": "markdown",
   "id": "c6d1efce-1e7f-46a0-a092-e2fe38017fc6",
   "metadata": {},
   "source": [
    "___\n",
    "For some Sciospec devices two USB ports are available.\n",
    "It it preferred to use the USB-HS port, because it is faster than USB-FS.\n",
    "You cannot connect both USB ports with the same script.\n",
    "\n",
    "**USB-HS**\n",
    "\n",
    "Connect the EIT device to the USB-HS port.\n",
    "\n",
    "If you have issues with the connection try [this](https://eblot.github.io/pyftdi/installation.html)."
   ]
  },
  {
   "cell_type": "code",
   "execution_count": null,
   "id": "aebcee3a-f3f0-4709-88d3-525eec9b6bb8",
   "metadata": {},
   "outputs": [],
   "source": [
    "# connect device via USB-HS port\n",
    "sciospec.connect_device_HS()"
   ]
  },
  {
   "cell_type": "markdown",
   "id": "8dadceb4-5f5a-4fe7-8490-c16423bf9f24",
   "metadata": {},
   "source": [
    "**USB-FS**\n",
    "\n",
    "Connect the EIT device to the USB-FS port."
   ]
  },
  {
   "cell_type": "code",
   "execution_count": null,
   "id": "d3f4ca6b-fff9-41e2-97c6-6d458702b7b1",
   "metadata": {},
   "outputs": [],
   "source": [
    "from sciopy import available_serial_ports\n",
    "\n",
    "# this function can be used to get the available ports (works only on windows, I guess)\n",
    "available_serial_ports()"
   ]
  },
  {
   "cell_type": "code",
   "execution_count": null,
   "id": "924cbf79-ca2a-4d32-a1f1-6450746078c0",
   "metadata": {},
   "outputs": [],
   "source": [
    "# connect device via USB-FS port\n",
    "sciospec.connect_device_FS(port=\"COM1\")  # Insert available serial port here."
   ]
  },
  {
   "cell_type": "markdown",
   "id": "5fd0f70f-f0c8-429c-b0db-43d23b75f365",
   "metadata": {},
   "source": [
    "___"
   ]
  },
  {
   "cell_type": "code",
   "execution_count": null,
   "id": "de7aaeb5-afb9-4c0d-a3ad-1a8bcf804d6a",
   "metadata": {},
   "outputs": [],
   "source": [
    "# read system message buffer\n",
    "sciospec.SystemMessageCallback()\n",
    "# should be empty"
   ]
  },
  {
   "cell_type": "code",
   "execution_count": null,
   "id": "e8609e39-a7bd-4aaf-8f02-56d7c3c527d7",
   "metadata": {},
   "outputs": [],
   "source": [
    "# get device info\n",
    "sciospec.GetDeviceInfo()"
   ]
  },
  {
   "cell_type": "code",
   "execution_count": null,
   "id": "10d15631-d005-4929-9f4e-38716f0fdfb2",
   "metadata": {},
   "outputs": [],
   "source": [
    "# create a measurement setup\n",
    "setup = EitMeasurementSetup(\n",
    "    burst_count=1,\n",
    "    n_el=n_el,\n",
    "    exc_freq=125_000,\n",
    "    framerate=3,\n",
    "    amplitude=0.01,\n",
    "    inj_skip=n_el // 2,\n",
    "    gain=1,\n",
    "    adc_range=1,\n",
    ")"
   ]
  },
  {
   "cell_type": "code",
   "execution_count": null,
   "id": "9a80f291-4722-497d-9f16-672b6b50af86",
   "metadata": {},
   "outputs": [],
   "source": [
    "sciospec.SetMeasurementSetup(setup)"
   ]
  },
  {
   "cell_type": "code",
   "execution_count": null,
   "id": "4ca492ed-b55d-429c-b1a3-996691918529",
   "metadata": {},
   "outputs": [],
   "source": [
    "# look inside the docstring of the function and manual\n",
    "sciospec.GetMeasurementSetup(2)"
   ]
  },
  {
   "cell_type": "code",
   "execution_count": null,
   "id": "d88f4bf1-d618-4024-a533-ce441f141062",
   "metadata": {},
   "outputs": [],
   "source": [
    "sciospec.update_BurstCount(4)"
   ]
  },
  {
   "cell_type": "code",
   "execution_count": null,
   "id": "7607a215-8bb9-429a-885d-e96707d957b5",
   "metadata": {},
   "outputs": [],
   "source": [
    "# get data\n",
    "data = sciospec.StartStopMeasurement(return_as=\"pot_mat\")  # or \"hex\"\n",
    "# data.shape = (burst_count, n_el, n_el)\n",
    "# check if data shape equals setup\n",
    "assert data.shape[0] == setup.burst_count"
   ]
  },
  {
   "cell_type": "code",
   "execution_count": null,
   "id": "2c4c8ac0-4a41-4d85-836d-b17b0a8b81aa",
   "metadata": {},
   "outputs": [],
   "source": [
    "for pot in data:\n",
    "    plt.imshow(np.abs(pot))\n",
    "    plt.show()"
   ]
  },
  {
   "cell_type": "code",
   "execution_count": null,
   "id": "c057f22c-949c-4f86-9fb0-bf88a9028ef2",
   "metadata": {},
   "outputs": [],
   "source": [
    "# reset the device software (may take a while ~5s, have a look at the LEDs)\n",
    "sciospec.SoftwareReset()"
   ]
  },
  {
   "cell_type": "markdown",
   "id": "b1005ea6-0f4e-44f9-a721-6e2f20edc11d",
   "metadata": {},
   "source": [
    "___"
   ]
  }
 ],
 "metadata": {
  "kernelspec": {
   "display_name": "Python 3 (ipykernel)",
   "language": "python",
   "name": "python3"
  },
  "language_info": {
   "codemirror_mode": {
    "name": "ipython",
    "version": 3
   },
   "file_extension": ".py",
   "mimetype": "text/x-python",
   "name": "python",
   "nbconvert_exporter": "python",
   "pygments_lexer": "ipython3",
   "version": "3.12.2"
  }
 },
 "nbformat": 4,
 "nbformat_minor": 5
}
